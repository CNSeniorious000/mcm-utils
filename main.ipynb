{
 "cells": [
  {
   "cell_type": "code",
   "execution_count": 1,
   "metadata": {
    "pycharm": {
     "name": "#%%\n"
    }
   },
   "outputs": [],
   "source": [
    "import fitz"
   ]
  },
  {
   "cell_type": "code",
   "execution_count": 2,
   "metadata": {
    "pycharm": {
     "name": "#%%\n"
    }
   },
   "outputs": [],
   "source": [
    "pdf = fitz.open(\"2200623.pdf\")"
   ]
  },
  {
   "cell_type": "code",
   "execution_count": 3,
   "metadata": {
    "pycharm": {
     "name": "#%%\n"
    }
   },
   "outputs": [
    {
     "data": {
      "text/plain": "37"
     },
     "execution_count": 3,
     "metadata": {},
     "output_type": "execute_result"
    }
   ],
   "source": [
    "pdf.xref_length()"
   ]
  },
  {
   "cell_type": "code",
   "execution_count": 4,
   "metadata": {
    "pycharm": {
     "name": "#%%\n"
    }
   },
   "outputs": [
    {
     "data": {
      "text/plain": "[(29, 0, 837, 260, 8, 'Indexed', '', 'Im1', ''),\n (30, 0, 300, 68, 8, 'Indexed', '', 'Im2', ''),\n (31, 0, 200, 98, 8, 'DeviceRGB', '', 'Im3', 'DCTDecode'),\n (32, 0, 244, 112, 8, 'Indexed', '', 'Im4', ''),\n (33, 0, 150, 56, 8, 'DeviceRGB', '', 'Im5', 'DCTDecode'),\n (34, 0, 189, 63, 8, 'Indexed', '', 'Im6', ''),\n (35, 0, 268, 78, 8, 'Indexed', '', 'Im7', ''),\n (36, 0, 164, 83, 8, 'Indexed', '', 'Im8', '')]"
     },
     "execution_count": 4,
     "metadata": {},
     "output_type": "execute_result"
    }
   ],
   "source": [
    "pdf.get_page_images(0)"
   ]
  },
  {
   "cell_type": "code",
   "execution_count": 5,
   "metadata": {
    "pycharm": {
     "name": "#%%\n"
    }
   },
   "outputs": [],
   "source": [
    "import numpy as np\n",
    "from matplotlib import pyplot as plt"
   ]
  },
  {
   "cell_type": "code",
   "execution_count": 6,
   "metadata": {
    "pycharm": {
     "name": "#%%\n"
    }
   },
   "outputs": [
    {
     "data": {
      "text/plain": "[9, 11, 13, 15, 17, 19, 21, 25, 28, 29, 30, 31, 32, 33, 34, 35, 36]"
     },
     "execution_count": 6,
     "metadata": {},
     "output_type": "execute_result"
    }
   ],
   "source": [
    "[i for i in range(1,37) if pdf.xref_stream(i)]"
   ]
  },
  {
   "cell_type": "code",
   "execution_count": 7,
   "metadata": {
    "pycharm": {
     "name": "#%%\n"
    }
   },
   "outputs": [
    {
     "data": {
      "text/plain": "<Figure size 432x288 with 1 Axes>",
      "image/png": "[encoded data removed]"
     },
     "metadata": {
      "needs_background": "light"
     },
     "output_type": "display_data"
    }
   ],
   "source": [
    "img = np.frombuffer(pdf.xref_stream(34), dtype=np.uint8).reshape(63,189)\n",
    "plt.imshow(img)\n",
    "plt.show()"
   ]
  },
  {
   "cell_type": "code",
   "execution_count": 8,
   "metadata": {
    "pycharm": {
     "name": "#%%\n"
    }
   },
   "outputs": [],
   "source": [
    "page = pdf[0]"
   ]
  },
  {
   "cell_type": "code",
   "execution_count": 9,
   "metadata": {
    "pycharm": {
     "name": "#%%\n"
    }
   },
   "outputs": [],
   "source": [
    "pixmap = page.get_pixmap()"
   ]
  },
  {
   "cell_type": "code",
   "execution_count": 10,
   "metadata": {
    "pycharm": {
     "name": "#%%\n"
    }
   },
   "outputs": [
    {
     "name": "stdout",
     "output_type": "stream",
     "text": [
      "Help on Pixmap in module fitz.fitz object:\n",
      "\n",
      "class Pixmap(builtins.object)\n",
      " |  Pixmap(*args)\n",
      " |  \n",
      " |  Methods defined here:\n",
      " |  \n",
      " |  __del__(self)\n",
      " |  \n",
      " |  __enter__(self)\n",
      " |  \n",
      " |  __exit__(self, *args)\n",
      " |  \n",
      " |  __init__(self, *args)\n",
      " |      Pixmap(colorspace, irect, alpha) - empty pixmap.\n",
      " |      Pixmap(colorspace, src) - copy changing colorspace.\n",
      " |      Pixmap(src, width, height,[clip]) - scaled copy, float dimensions.\n",
      " |      Pixmap(src, alpha=True) - copy adding / dropping alpha.\n",
      " |      Pixmap(source, mask) - from a non-alpha and a mask pixmap.\n",
      " |      Pixmap(file) - from an image file.\n",
      " |      Pixmap(memory) - from an image in memory (bytes).\n",
      " |      Pixmap(colorspace, width, height, samples, alpha) - from samples data.\n",
      " |      Pixmap(PDFdoc, xref) - from an image xref in a PDF document.\n",
      " |  \n",
      " |  __len__(self)\n",
      " |  \n",
      " |  __repr__(self)\n",
      " |      Return repr(self).\n",
      " |  \n",
      " |  clearWith = deprecated_function(*args, **kw)\n",
      " |      *** Deprecated and removed after v1.19 - use 'clear_with'. ***\n",
      " |      Fill all color components with same value.\n",
      " |  \n",
      " |  clear_with(self, *args) -> None\n",
      " |      Fill all color components with same value.\n",
      " |  \n",
      " |  color_count(self, colors: int = 0, clip: 'rect_like' = None) -> Any\n",
      " |      Return count of each color.\n",
      " |  \n",
      " |  color_topusage(self, clip=None)\n",
      " |      Return most frequent color and its usage ratio.\n",
      " |  \n",
      " |  copy(self, src: 'Pixmap', bbox: Any) -> Any\n",
      " |      Copy bbox from another Pixmap.\n",
      " |  \n",
      " |  copyPixmap = deprecated_function(*args, **kw)\n",
      " |      *** Deprecated and removed after v1.19 - use 'copy'. ***\n",
      " |      Copy bbox from another Pixmap.\n",
      " |  \n",
      " |  gammaWith = deprecated_function(*args, **kw)\n",
      " |      *** Deprecated and removed after v1.19 - use 'gamma_with'. ***\n",
      " |      Apply correction with some float.\n",
      " |              gamma=1 is a no-op.\n",
      " |  \n",
      " |  gamma_with(self, gamma: float) -> None\n",
      " |      Apply correction with some float.\n",
      " |      gamma=1 is a no-op.\n",
      " |  \n",
      " |  getImageData = deprecated_function(*args, **kw)\n",
      " |      *** Deprecated and removed after v1.19 - use 'tobytes'. ***\n",
      " |      Convert to binary image stream of desired type.\n",
      " |      \n",
      " |              Can be used as input to GUI packages like tkinter.\n",
      " |      \n",
      " |              Args:\n",
      " |                  output: (str) image type, default is PNG. Others are PNM, PGM, PPM,\n",
      " |                          PBM, PAM, PSD, PS.\n",
      " |              Returns:\n",
      " |                  Bytes object.\n",
      " |  \n",
      " |  getPNGData = deprecated_function(*args, **kw)\n",
      " |      *** Deprecated and removed after v1.19 - use 'tobytes'. ***\n",
      " |      Convert to binary image stream of desired type.\n",
      " |      \n",
      " |              Can be used as input to GUI packages like tkinter.\n",
      " |      \n",
      " |              Args:\n",
      " |                  output: (str) image type, default is PNG. Others are PNM, PGM, PPM,\n",
      " |                          PBM, PAM, PSD, PS.\n",
      " |              Returns:\n",
      " |                  Bytes object.\n",
      " |  \n",
      " |  getPNGdata = deprecated_function(*args, **kw)\n",
      " |      *** Deprecated and removed after v1.19 - use 'tobytes'. ***\n",
      " |      Convert to binary image stream of desired type.\n",
      " |      \n",
      " |              Can be used as input to GUI packages like tkinter.\n",
      " |      \n",
      " |              Args:\n",
      " |                  output: (str) image type, default is PNG. Others are PNM, PGM, PPM,\n",
      " |                          PBM, PAM, PSD, PS.\n",
      " |              Returns:\n",
      " |                  Bytes object.\n",
      " |  \n",
      " |  invertIRect = deprecated_function(*args, **kw)\n",
      " |      *** Deprecated and removed after v1.19 - use 'invert_irect'. ***\n",
      " |      Invert the colors inside a bbox.\n",
      " |  \n",
      " |  invert_irect(self, bbox: Any = None) -> Any\n",
      " |      Invert the colors inside a bbox.\n",
      " |  \n",
      " |  pdfocr_save(self, filename: Any, compress: int = 1, language: Optional[str] = None) -> Any\n",
      " |  \n",
      " |  pdfocr_tobytes(self, compress=True, language='eng')\n",
      " |      Save pixmap as an OCR-ed PDF page.\n",
      " |      \n",
      " |      Args:\n",
      " |          compress: (bool) compress, default 1 (True).\n",
      " |          language: (str) language(s) occurring on page, default \"eng\" (English),\n",
      " |                  multiples like \"eng,ger\" for English and German.\n",
      " |      Notes:\n",
      " |          On failure, make sure Tesseract is installed and you have set the\n",
      " |          environment variable \"TESSDATA_PREFIX\" to the folder containing your\n",
      " |          Tesseract's language support data.\n",
      " |  \n",
      " |  pil_save(self, *args, **kwargs)\n",
      " |      Write to image file using Pillow.\n",
      " |      \n",
      " |      Args are passed to Pillow's Image.save method, see their documentation.\n",
      " |      Use instead of save when other output formats are desired.\n",
      " |  \n",
      " |  pil_tobytes(self, *args, **kwargs)\n",
      " |      Convert to binary image stream using pillow.\n",
      " |      \n",
      " |      Args are passed to Pillow's Image.save method, see their documentation.\n",
      " |      Use instead of 'tobytes' when other output formats are needed.\n",
      " |  \n",
      " |  pillowData = deprecated_function(*args, **kw)\n",
      " |      *** Deprecated and removed after v1.19 - use 'pil_tobytes'. ***\n",
      " |      Convert to binary image stream using pillow.\n",
      " |      \n",
      " |              Args are passed to Pillow's Image.save method, see their documentation.\n",
      " |              Use instead of 'tobytes' when other output formats are needed.\n",
      " |  \n",
      " |  pillowWrite = deprecated_function(*args, **kw)\n",
      " |      *** Deprecated and removed after v1.19 - use 'pil_save'. ***\n",
      " |      Write to image file using Pillow.\n",
      " |      \n",
      " |              Args are passed to Pillow's Image.save method, see their documentation.\n",
      " |              Use instead of save when other output formats are desired.\n",
      " |  \n",
      " |  pixel(self, x: int, y: int) -> Any\n",
      " |      Get color tuple of pixel (x, y).\n",
      " |      Includes alpha byte if applicable.\n",
      " |  \n",
      " |  save(self, filename, output=None)\n",
      " |      Output as image in format determined by filename extension.\n",
      " |      \n",
      " |      Args:\n",
      " |          output: (str) only use to overrule filename extension. Default is PNG.\n",
      " |                  Others are PNM, PGM, PPM, PBM, PAM, PSD, PS.\n",
      " |  \n",
      " |  setAlpha = deprecated_function(*args, **kw)\n",
      " |      *** Deprecated and removed after v1.19 - use 'set_alpha'. ***\n",
      " |      Set alpha channel to values contained in a byte array.\n",
      " |              If None, all alphas are 255.\n",
      " |      \n",
      " |              Args:\n",
      " |                  alphavalues: (bytes) with length (width * height) or 'None'.\n",
      " |                  premultiply: (bool, True) premultiply colors with alpha values.\n",
      " |                  opaque: (tuple, length colorspace.n) this color receives opacity 0.\n",
      " |                  matte: (tuple, length colorspace.n)) preblending background color.\n",
      " |  \n",
      " |  setOrigin = deprecated_function(*args, **kw)\n",
      " |      *** Deprecated and removed after v1.19 - use 'set_origin'. ***\n",
      " |      Set top-left coordinates.\n",
      " |  \n",
      " |  setPixel = deprecated_function(*args, **kw)\n",
      " |      *** Deprecated and removed after v1.19 - use 'set_pixel'. ***\n",
      " |      Set color of pixel (x, y).\n",
      " |  \n",
      " |  setRect = deprecated_function(*args, **kw)\n",
      " |      *** Deprecated and removed after v1.19 - use 'set_rect'. ***\n",
      " |      Set color of all pixels in bbox.\n",
      " |  \n",
      " |  setResolution = deprecated_function(*args, **kw)\n",
      " |      *** Deprecated and removed after v1.19 - use 'set_dpi'. ***\n",
      " |      Set resolution in both dimensions.\n",
      " |  \n",
      " |  set_alpha(self, alphavalues: Any = None, premultiply: int = 1, opaque: Any = None, matte: Any = None) -> Any\n",
      " |      Set alpha channel to values contained in a byte array.\n",
      " |      If None, all alphas are 255.\n",
      " |      \n",
      " |      Args:\n",
      " |          alphavalues: (bytes) with length (width * height) or 'None'.\n",
      " |          premultiply: (bool, True) premultiply colors with alpha values.\n",
      " |          opaque: (tuple, length colorspace.n) this color receives opacity 0.\n",
      " |          matte: (tuple, length colorspace.n)) preblending background color.\n",
      " |  \n",
      " |  set_dpi(self, xres: int, yres: int) -> Any\n",
      " |      Set resolution in both dimensions.\n",
      " |  \n",
      " |  set_origin(self, x: int, y: int) -> Any\n",
      " |      Set top-left coordinates.\n",
      " |  \n",
      " |  set_pixel(self, x: int, y: int, color: Any) -> Any\n",
      " |      Set color of pixel (x, y).\n",
      " |  \n",
      " |  set_rect(self, bbox: Any, color: Any) -> Any\n",
      " |      Set color of all pixels in bbox.\n",
      " |  \n",
      " |  shrink(self, factor: int) -> None\n",
      " |      Divide width and height by 2**factor.\n",
      " |      E.g. factor=1 shrinks to 25% of original size (in place).\n",
      " |  \n",
      " |  tintWith = deprecated_function(*args, **kw)\n",
      " |      *** Deprecated and removed after v1.19 - use 'tint_with'. ***\n",
      " |      Tint colors with modifiers for black and white.\n",
      " |  \n",
      " |  tint_with(self, black: int, white: int) -> None\n",
      " |      Tint colors with modifiers for black and white.\n",
      " |  \n",
      " |  tobytes(self, output='png')\n",
      " |      Convert to binary image stream of desired type.\n",
      " |      \n",
      " |      Can be used as input to GUI packages like tkinter.\n",
      " |      \n",
      " |      Args:\n",
      " |          output: (str) image type, default is PNG. Others are PNM, PGM, PPM,\n",
      " |                  PBM, PAM, PSD, PS.\n",
      " |      Returns:\n",
      " |          Bytes object.\n",
      " |  \n",
      " |  warp(self, quad: Any, width: int, height: int) -> 'Pixmap'\n",
      " |      Return pixmap from a warped quad.\n",
      " |  \n",
      " |  writeImage = deprecated_function(*args, **kw)\n",
      " |      *** Deprecated and removed after v1.19 - use 'save'. ***\n",
      " |      Output as image in format determined by filename extension.\n",
      " |      \n",
      " |              Args:\n",
      " |                  output: (str) only use to overrule filename extension. Default is PNG.\n",
      " |                          Others are PNM, PGM, PPM, PBM, PAM, PSD, PS.\n",
      " |  \n",
      " |  writePNG = deprecated_function(*args, **kw)\n",
      " |      *** Deprecated and removed after v1.19 - use 'save'. ***\n",
      " |      Output as image in format determined by filename extension.\n",
      " |      \n",
      " |              Args:\n",
      " |                  output: (str) only use to overrule filename extension. Default is PNG.\n",
      " |                          Others are PNM, PGM, PPM, PBM, PAM, PSD, PS.\n",
      " |  \n",
      " |  ----------------------------------------------------------------------\n",
      " |  Static methods defined here:\n",
      " |  \n",
      " |  __swig_destroy__ = delete_Pixmap(...)\n",
      " |  \n",
      " |  ----------------------------------------------------------------------\n",
      " |  Readonly properties defined here:\n",
      " |  \n",
      " |  alpha\n",
      " |      Indicates presence of alpha channel.\n",
      " |  \n",
      " |  colorspace\n",
      " |      Pixmap Colorspace.\n",
      " |  \n",
      " |  digest\n",
      " |      MD5 digest of pixmap (bytes).\n",
      " |  \n",
      " |  h\n",
      " |      The height.\n",
      " |  \n",
      " |  height\n",
      " |      The height.\n",
      " |  \n",
      " |  irect\n",
      " |      Pixmap bbox - an IRect object.\n",
      " |  \n",
      " |  is_monochrome\n",
      " |      Check if pixmap is monochrome.\n",
      " |  \n",
      " |  is_unicolor\n",
      " |      Check if pixmap has only one color.\n",
      " |  \n",
      " |  n\n",
      " |      The size of one pixel.\n",
      " |  \n",
      " |  samples\n",
      " |  \n",
      " |  samples_mv\n",
      " |      Pixmap samples memoryview.\n",
      " |  \n",
      " |  samples_ptr\n",
      " |      Pixmap samples pointer.\n",
      " |  \n",
      " |  size\n",
      " |      Pixmap size.\n",
      " |  \n",
      " |  stride\n",
      " |      Length of one image line (width * n).\n",
      " |  \n",
      " |  w\n",
      " |      The width.\n",
      " |  \n",
      " |  width\n",
      " |      The width.\n",
      " |  \n",
      " |  x\n",
      " |      x component of Pixmap origin.\n",
      " |  \n",
      " |  xres\n",
      " |      Resolution in x direction.\n",
      " |  \n",
      " |  y\n",
      " |      y component of Pixmap origin.\n",
      " |  \n",
      " |  yres\n",
      " |      Resolution in y direction.\n",
      " |  \n",
      " |  ----------------------------------------------------------------------\n",
      " |  Data descriptors defined here:\n",
      " |  \n",
      " |  __dict__\n",
      " |      dictionary for instance variables (if defined)\n",
      " |  \n",
      " |  __weakref__\n",
      " |      list of weak references to the object (if defined)\n",
      " |  \n",
      " |  thisown\n",
      " |      The membership flag\n",
      "\n"
     ]
    }
   ],
   "source": [
    "help(pixmap)"
   ]
  },
  {
   "cell_type": "code",
   "execution_count": null,
   "metadata": {
    "pycharm": {
     "name": "#%%\n"
    }
   },
   "outputs": [],
   "source": []
  }
 ],
 "metadata": {
  "interpreter": {
   "hash": "26de051ba29f2982a8de78e945f0abaf191376122a1563185a90213a26c5da77"
  },
  "kernelspec": {
   "display_name": "Python 3.10.4 64-bit",
   "language": "python",
   "name": "python3"
  },
  "language_info": {
   "codemirror_mode": {
    "name": "ipython",
    "version": 3
   },
   "file_extension": ".py",
   "mimetype": "text/x-python",
   "name": "python",
   "nbconvert_exporter": "python",
   "pygments_lexer": "ipython3",
   "version": "3.10.4"
  },
  "orig_nbformat": 4
 },
 "nbformat": 4,
 "nbformat_minor": 2
}